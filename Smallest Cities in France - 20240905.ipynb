{
 "cells": [
  {
   "cell_type": "markdown",
   "id": "46095402-d05b-4697-809c-c926de29df85",
   "metadata": {},
   "source": [
    "*Made by GuiAT* <br>\n",
    "Started : 20240905 <br>\n",
    "Done : 20240906 <br>"
   ]
  },
  {
   "cell_type": "markdown",
   "id": "92f96d85-fb2d-44bc-9af5-5031189603fb",
   "metadata": {},
   "source": [
    "# SMALLEST CITIES IN FRANCE.\n",
    "***"
   ]
  },
  {
   "cell_type": "markdown",
   "id": "e6a00b5c-f2c2-4d60-ac96-20028fe340ee",
   "metadata": {},
   "source": [
    "**Which french cities have the smallest population?** <br>\n",
    "The goal of this notebook is to use the *API Découpage administratif* (https://geo.api.gouv.fr/decoupage-administratif) in order to determine which cities have the smallest population in France. <br>\n",
    "Libraries used : Requests, Pandas"
   ]
  },
  {
   "cell_type": "markdown",
   "id": "034d8566-2193-46e8-8764-ea7d993c777f",
   "metadata": {},
   "source": [
    "### 1) Total Number of cities in France."
   ]
  },
  {
   "cell_type": "code",
   "execution_count": 4,
   "id": "9e608d9b-9a32-4fac-8d8a-96ea207c9d86",
   "metadata": {
    "jupyter": {
     "source_hidden": true
    }
   },
   "outputs": [
    {
     "name": "stdout",
     "output_type": "stream",
     "text": [
      "THE TOTAL NUMBER OF CITIES IN FRANCE IS : 35029\n"
     ]
    }
   ],
   "source": [
    "#Total number of cities in France -code\n",
    "import requests\n",
    "\n",
    "r = requests.get('https://geo.api.gouv.fr/communes')\n",
    "print(\"THE TOTAL NUMBER OF CITIES IN FRANCE IS :\",len(r.json()))"
   ]
  },
  {
   "cell_type": "markdown",
   "id": "4e15ab48-6dcc-43b8-a9ca-203cadc6eff6",
   "metadata": {},
   "source": [
    "### 2) Investigating inconsistencies.\n",
    "According to governmental site vie-publique.fr (https://www.vie-publique.fr/en-bref/293455-collectivites-34-935-communes-au-1er-janvier-2024) the total number of cities in France is 34.935. "
   ]
  },
  {
   "cell_type": "code",
   "execution_count": 13,
   "id": "504993b7-1808-4947-92a5-d46250ca2e28",
   "metadata": {
    "jupyter": {
     "source_hidden": true
    }
   },
   "outputs": [
    {
     "name": "stdout",
     "output_type": "stream",
     "text": [
      "THE TOTAL NUMBER OF CITIES IS : 35029 ; THE TOTAL NUMBER OF EPCIs IS : 34931 ; THERE ARE 34935 CITIES WITH A SIREN CODE.\n"
     ]
    }
   ],
   "source": [
    "#Understanding the data -code\n",
    "import requests\n",
    "\n",
    "r = requests.get('https://geo.api.gouv.fr/communes').json()\n",
    "\n",
    "countNom = 0\n",
    "x = 'nom'\n",
    "for i in range(len(r)):\n",
    "    if x in r[i]:\n",
    "        countNom +=1\n",
    "\n",
    "countEpci = 0\n",
    "x = 'codeEpci'\n",
    "for i in range(len(r)):\n",
    "    if x in r[i]:\n",
    "        countEpci +=1\n",
    "\n",
    "countSiren = 0\n",
    "x = 'siren'\n",
    "for i in range(len(r)):\n",
    "    if x in r[i]:\n",
    "        countSiren +=1\n",
    "\n",
    "print(\"THE TOTAL NUMBER OF CITIES IS :\",countNom, \"; THE TOTAL NUMBER OF EPCIs IS :\",countEpci,\"; THERE ARE\",countSiren, \"CITIES WITH A SIREN CODE.\")\n"
   ]
  },
  {
   "cell_type": "markdown",
   "id": "140024fd-4a7e-4ca5-95cd-21ea4f2005bb",
   "metadata": {},
   "source": [
    "Definition Siren Code : https://www.insee.fr/fr/metadonnees/definition/c2047"
   ]
  },
  {
   "cell_type": "markdown",
   "id": "fecee7ac-9378-4199-ae00-367c8386195f",
   "metadata": {},
   "source": [
    "### 3) Identifying the smallest cities."
   ]
  },
  {
   "cell_type": "code",
   "execution_count": 19,
   "id": "2d36f5bc-3b97-4a67-802d-64517fdd27f5",
   "metadata": {
    "jupyter": {
     "source_hidden": true
    }
   },
   "outputs": [
    {
     "name": "stdout",
     "output_type": "stream",
     "text": [
      "                      nom departement  population\n",
      "9203        Rochefourchat          26         1.0\n",
      "8973   La Bâtie-des-Fonds          26         2.0\n",
      "19717       Leménil-Mitry          54         2.0\n",
      "18563      Rouvroy-Ripont          51         3.0\n",
      "11371             Caubous          31         4.0\n"
     ]
    }
   ],
   "source": [
    "#Smallest cities in France -code\n",
    "import requests\n",
    "import pandas as pd\n",
    "\n",
    "r = requests.get('https://geo.api.gouv.fr/communes')\n",
    "\n",
    "df = pd.json_normalize(r.json())\n",
    "ddf = df.loc[df['population'] != 0]\n",
    "print(ddf[['nom','codeDepartement', 'population']].nsmallest(5, 'population').rename(columns={'codeDepartement' : 'departement'}))\n",
    "\n",
    "\n"
   ]
  },
  {
   "cell_type": "markdown",
   "id": "78c74a43-3fb5-4dc2-9419-0ea655bd95a6",
   "metadata": {},
   "source": [
    "N.B.: On the last cell, zero values had to be drop (ddf = df.loc[df['population'] != 0]) since those rows correspond to cities that have no population. Four of which are WW1 remembrance cities (https://www.senat.fr/questions/base/1999/qSEQ990918783.html)"
   ]
  },
  {
   "cell_type": "code",
   "execution_count": 24,
   "id": "6c0c1d33-6934-4a75-a86c-6d1a005c5310",
   "metadata": {
    "jupyter": {
     "source_hidden": true
    },
    "scrolled": true
   },
   "outputs": [
    {
     "name": "stdout",
     "output_type": "stream",
     "text": [
      "                            nom departement  population\n",
      "20032     Beaumont-en-Verdunois          55         0.0\n",
      "20043                 Bezonvaux          55         0.0\n",
      "20118    Cumières-le-Mort-Homme          55         0.0\n",
      "20161   Fleury-devant-Douaumont          55         0.0\n",
      "20198    Haumont-près-Samogneux          55         0.0\n",
      "20257  Louvemont-Côte-du-Poivre          55         0.0\n"
     ]
    }
   ],
   "source": [
    "#cities without population -code\n",
    "import requests\n",
    "import pandas as pd\n",
    "\n",
    "r = requests.get('https://geo.api.gouv.fr/communes')\n",
    "\n",
    "df = pd.json_normalize(r.json())\n",
    "ddf = df.loc[df['population'] == 0]\n",
    "print(ddf[['nom','codeDepartement', 'population']].nsmallest(10,'population').rename(columns={'codeDepartement' : 'departement'}))"
   ]
  }
 ],
 "metadata": {
  "kernelspec": {
   "display_name": "Python [conda env:jupyter_env] *",
   "language": "python",
   "name": "conda-env-jupyter_env-py"
  },
  "language_info": {
   "codemirror_mode": {
    "name": "ipython",
    "version": 3
   },
   "file_extension": ".py",
   "mimetype": "text/x-python",
   "name": "python",
   "nbconvert_exporter": "python",
   "pygments_lexer": "ipython3",
   "version": "3.12.2"
  }
 },
 "nbformat": 4,
 "nbformat_minor": 5
}
